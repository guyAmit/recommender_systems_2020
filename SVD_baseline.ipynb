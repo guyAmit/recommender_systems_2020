{
 "cells": [
  {
   "cell_type": "code",
   "execution_count": null,
   "metadata": {},
   "outputs": [],
   "source": [
    "import torch\n",
    "from torch import nn\n",
    "import torch.nn.functional as F\n",
    "import torch.optim as optim\n",
    "\n",
    "from torch.utils.data import Dataset, DataLoader\n",
    "from torchvision import transforms, utils, models, datasets\n",
    "from sklearn.feature_extraction.text import CountVectorizer\n",
    "from PIL import Image\n",
    "\n",
    "import numpy as np\n",
    "import pandas\n",
    "import os\n",
    "import shutil\n",
    "import logging\n",
    "import time"
   ]
  },
  {
   "cell_type": "code",
   "execution_count": null,
   "metadata": {},
   "outputs": [],
   "source": [
    "base_path = './movielens1m'"
   ]
  },
  {
   "cell_type": "markdown",
   "metadata": {},
   "source": [
    "# Movielens1m Dataset"
   ]
  },
  {
   "cell_type": "code",
   "execution_count": null,
   "metadata": {},
   "outputs": [],
   "source": [
    "train_csv = os.path.join(base_path, 'train.dat')\n",
    "test_csv = os.path.join(base_path, 'test.dat')\n",
    "valid_csv = os.path.join(base_path, 'valid.dat')"
   ]
  },
  {
   "cell_type": "code",
   "execution_count": null,
   "metadata": {},
   "outputs": [],
   "source": [
    "train_dataframe = pandas.read_csv(train_csv, sep='\\t',\n",
    "                                   names=['user', 'item', 'rating'],\n",
    "                                   index_col=False)\n",
    "valid_dataframe = pandas.read_csv(valid_csv, sep='\\t',\n",
    "                                   names=['user', 'item', 'rating'],\n",
    "                                   index_col=False)\n",
    "test_dataframe = pandas.read_csv(test_csv, sep='\\t',\n",
    "                                   names=['user', 'item', 'rating'],\n",
    "                                   index_col=False)\n",
    "rating_mean = train_dataframe['rating'].mean()\n",
    "rating_std = train_dataframe['rating'].std()"
   ]
  },
  {
   "cell_type": "code",
   "execution_count": null,
   "metadata": {},
   "outputs": [],
   "source": [
    "rating_mean, rating_std"
   ]
  },
  {
   "cell_type": "code",
   "execution_count": null,
   "metadata": {},
   "outputs": [],
   "source": [
    "class Movielens1m_org_dataset(Dataset):\n",
    "    \"\"\"Face Landmarks dataset.\"\"\"\n",
    "\n",
    "    def __init__(self, rating_data):\n",
    "        self.rating_data = rating_data\n",
    "\n",
    "    def __len__(self):\n",
    "        return len(self.rating_data)\n",
    "    \n",
    "    def __getitem__(self, idx):\n",
    "        if torch.is_tensor(idx):\n",
    "            idx = idx.tolist()\n",
    "        user, item, rating = self.rating_data.iloc[idx]    \n",
    "        user = int(user)\n",
    "        item = int(item)\n",
    "        rating = float(rating)\n",
    "        sample = {'user': user, 'item': item, 'rating': rating}\n",
    "        return sample"
   ]
  },
  {
   "cell_type": "code",
   "execution_count": null,
   "metadata": {},
   "outputs": [],
   "source": [
    "movielens1m_train = Movielens1m_org_dataset(train_dataframe)\n",
    "movielens1m_valid = Movielens1m_org_dataset(valid_dataframe)\n",
    "\n",
    "batch_size = 32\n",
    "\n",
    "svd_train_loader = torch.utils.data.DataLoader(movielens1m_train,\n",
    "                                             batch_size=batch_size, shuffle=True,\n",
    "                                             num_workers=4)\n",
    "svd_valid_loader = torch.utils.data.DataLoader(movielens1m_valid,\n",
    "                                             batch_size=batch_size, shuffle=True,\n",
    "                                             num_workers=4)"
   ]
  },
  {
   "cell_type": "markdown",
   "metadata": {},
   "source": [
    "# SVD model"
   ]
  },
  {
   "cell_type": "code",
   "execution_count": null,
   "metadata": {},
   "outputs": [],
   "source": [
    "class SVD(nn.Module):\n",
    "    def __init__(self, n_users, n_items, rating_mean, embedding_size=32):\n",
    "        super(SVD, self).__init__()\n",
    "        self.user_embedding = nn.Embedding(num_embeddings=n_users,\n",
    "                                           embedding_dim=embedding_size)\n",
    "        self.item_embedding = nn.Embedding(num_embeddings=n_items,\n",
    "                                           embedding_dim=embedding_size)\n",
    "        self.user_bias = nn.Embedding(num_embeddings=n_users,\n",
    "                                           embedding_dim=1)\n",
    "        self.item_bias = nn.Embedding(num_embeddings=n_items,\n",
    "                                           embedding_dim=1)\n",
    "        self.rating_mean = rating_mean \n",
    "        \n",
    "        self.device = torch.device(\"cuda:0\" if torch.cuda.is_available() else \"cpu\")\n",
    "\n",
    "\n",
    "    def forward_train(self, inputs):\n",
    "\n",
    "        item_embedding = self.item_embedding(inputs['item'].cuda())\n",
    "        item_bias = self.item_bias(inputs['item'].cuda())\n",
    "\n",
    "        user_embedding = self.user_embedding(inputs['user'].cuda())\n",
    "        user_bias = self.user_bias(inputs['user'].cuda())\n",
    "\n",
    "        preds = torch.sum(item_embedding*user_embedding, axis=1) + user_bias.squeeze(1) + item_bias.squeeze(1) + self.rating_mean\n",
    "\n",
    "        return_vals = {'preds': preds, 'user_embedding': user_embedding,\n",
    "                     'item_embedding': item_embedding}\n",
    "        return return_vals\n",
    "    \n",
    "    def forward(self, x):\n",
    "\n",
    "        item_embedding = self.item_embedding(x['item'].cuda())\n",
    "        item_bias = self.item_bias(x['item'].cuda())\n",
    "        \n",
    "        user_embedding = self.user_embedding(x['user'].cuda())\n",
    "        user_bias = self.user_bias(x['user'].cuda())\n",
    "\n",
    "        preds = torch.sum(item_embedding*user_embedding, axis=1) + user_bias.squeeze(1) + item_bias.squeeze(1) + self.rating_mean\n",
    "\n",
    "        return preds\n",
    "\n",
    "def tensor_norm(tensor):\n",
    "    return (tensor**2).sum()\n",
    "\n",
    "def eval_model(loader, device):\n",
    "    model.module.eval()\n",
    "    with torch.no_grad():\n",
    "        mse_test_loss = 0.0\n",
    "        for inputs_svd in loader:\n",
    "            svd_preds = svd_model(inputs_svd)\n",
    "            mse_loss = rating_loss(svd_preds, inputs_svd['rating'].type(torch.FloatTensor).to(device))\n",
    "            mse_test_loss += mse_loss\n",
    "        mse_test_loss = mse_test_loss/len(loader)\n",
    "    return mse_test_loss\n",
    "\n",
    "def predict_svd(model, loader, device):\n",
    "    model.module.eval()\n",
    "    with torch.no_grad():\n",
    "        preds = []\n",
    "        for batch_idx, inputs_svd in enumerate(loader):\n",
    "            svd_preds = model(inputs_svd)\n",
    "            preds.append(svd_preds)\n",
    "            if batch_idx % 100 == 0:\n",
    "            print(f'finished {batch_idx} batches')\n",
    "        preds = torch.cat(preds)\n",
    "    return preds"
   ]
  },
  {
   "cell_type": "code",
   "execution_count": null,
   "metadata": {},
   "outputs": [],
   "source": [
    "svd_model = SVD(n_users=6040, n_items=3952, rating_mean=rating_mean, embedding_size=32)\n",
    "device = torch.device(\"cuda:0\" if torch.cuda.is_available() else \"cpu\")\n",
    "svd_model = svd_model.to(device)\n",
    "svd_model = nn.DataParallel(svd_model)\n"
   ]
  },
  {
   "cell_type": "markdown",
   "metadata": {},
   "source": [
    "# Training"
   ]
  },
  {
   "cell_type": "code",
   "execution_count": null,
   "metadata": {},
   "outputs": [],
   "source": [
    "logging.basicConfig(filename='./CKE_traning_svd.log' ,level=logging.INFO)"
   ]
  },
  {
   "cell_type": "code",
   "execution_count": null,
   "metadata": {},
   "outputs": [],
   "source": [
    "svd_optimizer = optim.Adam(svd_model.parameters(),lr=0.001)\n",
    "l2_lambda = 0.1\n",
    "rating_loss = nn.MSELoss()"
   ]
  },
  {
   "cell_type": "code",
   "execution_count": null,
   "metadata": {},
   "outputs": [],
   "source": [
    "svd_model.train()\n",
    "best_loss = np.inf\n",
    "for epoch in range(0, 21):\n",
    "    rating_training_loss = 0.0\n",
    "    start = time.time()\n",
    "    for inputs_svd in svd_train_loader:\n",
    "\n",
    "        # ============SVD============\n",
    "        svd_optimizer.zero_grad()\n",
    "        \n",
    "        svd_outputs =  svd_model.module.forward_train(inputs_svd)\n",
    "        \n",
    "        regularization_loss = (tensor_norm(svd_outputs['user_embedding']) + \n",
    "                               tensor_norm(svd_outputs['user_embedding']))\n",
    "        \n",
    "        rating_mse = rating_loss(svd_outputs['preds'], inputs_svd['rating'].type(torch.FloatTensor).to(device))\n",
    "        loss = rating_mse + l2_lambda*regularization_loss\n",
    "        \n",
    "        rating_training_loss += rating_mse\n",
    "        loss.backward()\n",
    "        svd_optimizer.step()\n",
    "\n",
    "    rating_training_loss = rating_training_loss/len(svd_train_loader)\n",
    "    \n",
    "    mse_test_loss = eval_model(svd_valid_loader, device)\n",
    "    end_time =  time.time()-start\n",
    "    print(f'Epoch {epoch} | Time {end_time:2f} | Train mse Loss {rating_training_loss:4f} | Test mse loss {mse_test_loss:4f}')\n",
    "    logging.info(f'Epoch {epoch} | Time {end_time:2f} | Train mse Loss {rating_training_loss:4f} | Test mse loss {mse_test_loss:4f}')\n",
    "    if mse_test_loss < best_loss:\n",
    "        best_loss = mse_test_loss\n",
    "        state = svd_model.module.state_dict()\n",
    "        torch.save(state, f'./models/svd_{epoch}.ckp.pth')\n"
   ]
  },
  {
   "cell_type": "markdown",
   "metadata": {},
   "source": [
    "# Test SVD"
   ]
  },
  {
   "cell_type": "markdown",
   "metadata": {},
   "source": [
    "## Test MSE"
   ]
  },
  {
   "cell_type": "code",
   "execution_count": null,
   "metadata": {},
   "outputs": [],
   "source": [
    "state = torch.load(f'./models/svd_19.ckp.pth')\n",
    "svd_model.module.load_state_dict(state)"
   ]
  },
  {
   "cell_type": "code",
   "execution_count": null,
   "metadata": {},
   "outputs": [],
   "source": [
    "eval_model(svd_test_loader, device)"
   ]
  },
  {
   "cell_type": "markdown",
   "metadata": {},
   "source": [
    "## Test Recall@K and MAP@K"
   ]
  },
  {
   "cell_type": "code",
   "execution_count": null,
   "metadata": {},
   "outputs": [],
   "source": [
    "test_data = pandas.read_csv(os.path.join(base_path, 'test_for_recall.csv'))"
   ]
  },
  {
   "cell_type": "code",
   "execution_count": null,
   "metadata": {},
   "outputs": [],
   "source": [
    "test_dataset = Movielens1m_org_dataset(test_data)"
   ]
  },
  {
   "cell_type": "code",
   "execution_count": null,
   "metadata": {},
   "outputs": [],
   "source": [
    "batch_size = 256\n",
    "svd_test_loader = torch.utils.data.DataLoader(test_dataset,\n",
    "                                             batch_size=batch_size, shuffle=False,\n",
    "                                             num_workers=1)"
   ]
  },
  {
   "cell_type": "code",
   "execution_count": null,
   "metadata": {},
   "outputs": [],
   "source": [
    "preds = predict_svd(svd_model, svd_test_loader, device)"
   ]
  },
  {
   "cell_type": "code",
   "execution_count": null,
   "metadata": {},
   "outputs": [],
   "source": [
    "complete_csv = pandas.DataFrame({'user': test_data['user'],\n",
    "                                 'item': test_data['item'],   \n",
    "                                 'True_val': test_data['True_val'],\n",
    "                                  'Preds': preds.detach().cpu().numpy()})"
   ]
  },
  {
   "cell_type": "code",
   "execution_count": null,
   "metadata": {},
   "outputs": [],
   "source": [
    "complete_csv.to_csv(os.path.join(base_path, 'results', 'Svd_final.csv'), index=False)"
   ]
  },
  {
   "cell_type": "markdown",
   "metadata": {},
   "source": [
    "### The @k evaluation itself is coded into the calc recall@k and MAP@k_v1.1 notebook"
   ]
  },
  {
   "cell_type": "code",
   "execution_count": null,
   "metadata": {},
   "outputs": [],
   "source": []
  }
 ],
 "metadata": {
  "kernelspec": {
   "display_name": "Python 3",
   "language": "python",
   "name": "python3"
  },
  "language_info": {
   "codemirror_mode": {
    "name": "ipython",
    "version": 3
   },
   "file_extension": ".py",
   "mimetype": "text/x-python",
   "name": "python",
   "nbconvert_exporter": "python",
   "pygments_lexer": "ipython3",
   "version": "3.8.2"
  }
 },
 "nbformat": 4,
 "nbformat_minor": 4
}
