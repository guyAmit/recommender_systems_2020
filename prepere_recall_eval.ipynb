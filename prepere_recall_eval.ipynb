{
 "cells": [
  {
   "cell_type": "code",
   "execution_count": 1,
   "metadata": {},
   "outputs": [],
   "source": [
    "import numpy as np\n",
    "import pandas\n",
    "import os\n",
    "import shutil\n",
    "import logging"
   ]
  },
  {
   "cell_type": "code",
   "execution_count": 2,
   "metadata": {},
   "outputs": [],
   "source": [
    "base_path = './movielens1m'"
   ]
  },
  {
   "cell_type": "code",
   "execution_count": 3,
   "metadata": {},
   "outputs": [],
   "source": [
    "test_csv = os.path.join(base_path, 'test.dat')"
   ]
  },
  {
   "cell_type": "code",
   "execution_count": 4,
   "metadata": {},
   "outputs": [],
   "source": [
    "test_data = pandas.read_csv(test_csv, sep='\\t',\n",
    "                                   names=['user', 'item', 'rating'],\n",
    "                                   index_col=False)"
   ]
  },
  {
   "cell_type": "code",
   "execution_count": 8,
   "metadata": {},
   "outputs": [],
   "source": [
    "gb = test_dataframe.groupby(['user'])\n",
    "user_items = gb.agg(list)\n",
    "user_items_dict = user_items.reset_index().set_index('user').to_dict()['item']\n",
    "user_rating_dict = user_items.reset_index().set_index('user').to_dict()['rating']"
   ]
  },
  {
   "cell_type": "code",
   "execution_count": 10,
   "metadata": {},
   "outputs": [],
   "source": [
    "test_users = test_dataframe['user'].unique()"
   ]
  },
  {
   "cell_type": "code",
   "execution_count": 14,
   "metadata": {},
   "outputs": [],
   "source": [
    "def sample_uniqe(user_test_items):\n",
    "    sampled_items = set(random.sample(range(3886), 400))\n",
    "    sampled_items.update(user_test_items)\n",
    "    return np.array(list(sampled_items), dtype=int)"
   ]
  },
  {
   "cell_type": "code",
   "execution_count": 25,
   "metadata": {},
   "outputs": [],
   "source": [
    "users = []\n",
    "items = []\n",
    "\n",
    "for idx, user in enumerate(test_users):\n",
    "    user_test_items = user_items_dict[user]\n",
    "    # sample 500 items\n",
    "    sampled_items = sample_uniqe(user_test_items)\n",
    "    user_list = np.array(len(sampled_items)*[user], dtype=int)\n",
    "    users.append(user_list)\n",
    "    items.append(sampled_items)\n",
    "    if idx % 1000  == 0:\n",
    "        print(idx)\n",
    "    del sampled_items, user_list\n",
    "items = np.concatenate(items)\n",
    "users = np.concatenate(users)"
   ]
  },
  {
   "cell_type": "code",
   "execution_count": null,
   "metadata": {},
   "outputs": [],
   "source": [
    "true_rating  = np.zeros_like(users)"
   ]
  },
  {
   "cell_type": "code",
   "execution_count": null,
   "metadata": {},
   "outputs": [],
   "source": [
    "def find_element_in_list(element, list_element):\n",
    "    try:\n",
    "        index_element = list_element.index(element)\n",
    "        return index_element\n",
    "    except ValueError:\n",
    "        return None"
   ]
  },
  {
   "cell_type": "code",
   "execution_count": null,
   "metadata": {},
   "outputs": [],
   "source": [
    "for j,(u, i) in enumerate(zip(users, items)):\n",
    "    idx = find_element_in_list(i, user_items_dict[u])\n",
    "    if idx is not None:\n",
    "        true_rating[j] = user_rating_dict[u][idx]\n",
    "    else:\n",
    "        true_rating[j] = -1"
   ]
  },
  {
   "cell_type": "code",
   "execution_count": null,
   "metadata": {},
   "outputs": [],
   "source": [
    "test_data = pandas.DataFrame({'user': users, 'item': items, 'True_val': true_rating})\n",
    "test_data.to_csv(os.path.join(base_path, 'test_for_recall.csv'), index=False)"
   ]
  },
  {
   "cell_type": "code",
   "execution_count": null,
   "metadata": {},
   "outputs": [],
   "source": []
  },
  {
   "cell_type": "code",
   "execution_count": null,
   "metadata": {},
   "outputs": [],
   "source": []
  },
  {
   "cell_type": "code",
   "execution_count": null,
   "metadata": {},
   "outputs": [],
   "source": []
  },
  {
   "cell_type": "code",
   "execution_count": null,
   "metadata": {},
   "outputs": [],
   "source": []
  }
 ],
 "metadata": {
  "kernelspec": {
   "display_name": "Python 3",
   "language": "python",
   "name": "python3"
  },
  "language_info": {
   "codemirror_mode": {
    "name": "ipython",
    "version": 3
   },
   "file_extension": ".py",
   "mimetype": "text/x-python",
   "name": "python",
   "nbconvert_exporter": "python",
   "pygments_lexer": "ipython3",
   "version": "3.8.2"
  }
 },
 "nbformat": 4,
 "nbformat_minor": 4
}
